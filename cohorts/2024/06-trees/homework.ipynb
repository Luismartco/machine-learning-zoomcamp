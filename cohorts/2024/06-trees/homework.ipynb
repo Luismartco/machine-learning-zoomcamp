{
 "cells": [
  {
   "cell_type": "code",
   "execution_count": 7,
   "metadata": {},
   "outputs": [],
   "source": [
    "import pandas as pd\n",
    "\n",
    "# Lee el archivo CSV\n",
    "df = pd.read_csv('jamb_exam_results.csv')\n",
    "\n",
    "df.columns = df.columns.str.lower().str.replace(' ', '_')"
   ]
  },
  {
   "cell_type": "code",
   "execution_count": null,
   "metadata": {},
   "outputs": [],
   "source": [
    "import numpy as np\n",
    "from sklearn.tree import DecisionTreeRegressor, export_text\n",
    "from sklearn.model_selection import train_test_split\n",
    "from sklearn.metrics import mean_squared_error, root_mean_squared_error\n",
    "from sklearn.ensemble import RandomForestRegressor\n",
    "from sklearn.feature_extraction import DictVectorizer\n",
    "import xgboost as xgb\n"
   ]
  },
  {
   "cell_type": "code",
   "execution_count": 15,
   "metadata": {},
   "outputs": [],
   "source": [
    "df = df.drop(columns=['student_id'])\n",
    "\n",
    "df = df.fillna(0)\n",
    "\n",
    "df_full_train, df_test = train_test_split(df, test_size=0.2, random_state=1)\n",
    "df_train, df_val = train_test_split(df_full_train, test_size=0.25, random_state=1)\n",
    "\n",
    "y_train = df_train.jamb_score.values\n",
    "y_val = df_val.jamb_score.values\n",
    "y_test = df_test.jamb_score.values\n",
    "\n",
    "df_train = df_train.drop(columns=['jamb_score'])\n",
    "df_val = df_val.drop(columns=['jamb_score'])\n",
    "df_test = df_test.drop(columns=['jamb_score'])\n",
    "\n",
    "dv = DictVectorizer(sparse=True)\n",
    "X_train = dv.fit_transform(df_train.to_dict(orient=\"records\"))\n",
    "X_val = dv.transform(df_val.to_dict(orient=\"records\"))\n",
    "X_test = dv.transform(df_test.to_dict(orient=\"records\"))"
   ]
  },
  {
   "cell_type": "markdown",
   "metadata": {},
   "source": [
    "# Question 1"
   ]
  },
  {
   "cell_type": "code",
   "execution_count": 16,
   "metadata": {},
   "outputs": [
    {
     "name": "stdout",
     "output_type": "stream",
     "text": [
      "|--- study_hours_per_week <= 18.50\n",
      "|   |--- value: [155.24]\n",
      "|--- study_hours_per_week >  18.50\n",
      "|   |--- value: [188.59]\n",
      "\n"
     ]
    }
   ],
   "source": [
    "dt = DecisionTreeRegressor(max_depth=1, random_state=1)\n",
    "dt.fit(X_train, y_train)\n",
    "\n",
    "print(export_text(dt, feature_names= dv.get_feature_names_out()))"
   ]
  },
  {
   "cell_type": "markdown",
   "metadata": {},
   "source": [
    "# Question 2"
   ]
  },
  {
   "cell_type": "code",
   "execution_count": 17,
   "metadata": {},
   "outputs": [
    {
     "name": "stdout",
     "output_type": "stream",
     "text": [
      "RMSE on validation set: 42.14\n"
     ]
    }
   ],
   "source": [
    "\n",
    "rf = RandomForestRegressor(n_estimators=10,\n",
    "                            random_state=1,\n",
    "                            n_jobs=-1)\n",
    "\n",
    "rf.fit(X_train, y_train)\n",
    "\n",
    "y_pred = rf.predict(X_val)\n",
    "\n",
    "rmse = root_mean_squared_error(y_pred, y_val)\n",
    "print(f\"RMSE on validation set: {rmse:.2f}\")"
   ]
  },
  {
   "cell_type": "markdown",
   "metadata": {},
   "source": [
    "# Question 3"
   ]
  },
  {
   "cell_type": "code",
   "execution_count": 18,
   "metadata": {},
   "outputs": [
    {
     "name": "stdout",
     "output_type": "stream",
     "text": [
      "n_estimators: 10, RMSE: 42.137\n",
      "n_estimators: 20, RMSE: 41.461\n",
      "n_estimators: 30, RMSE: 41.106\n",
      "n_estimators: 40, RMSE: 40.917\n",
      "n_estimators: 50, RMSE: 40.852\n",
      "n_estimators: 60, RMSE: 40.784\n",
      "n_estimators: 70, RMSE: 40.677\n",
      "n_estimators: 80, RMSE: 40.539\n",
      "n_estimators: 90, RMSE: 40.504\n",
      "n_estimators: 100, RMSE: 40.517\n",
      "n_estimators: 110, RMSE: 40.593\n",
      "n_estimators: 120, RMSE: 40.625\n",
      "n_estimators: 130, RMSE: 40.651\n",
      "n_estimators: 140, RMSE: 40.595\n",
      "n_estimators: 150, RMSE: 40.597\n",
      "n_estimators: 160, RMSE: 40.604\n",
      "n_estimators: 170, RMSE: 40.628\n",
      "n_estimators: 180, RMSE: 40.641\n",
      "n_estimators: 190, RMSE: 40.631\n",
      "n_estimators: 200, RMSE: 40.601\n",
      "Minimum RMSE: 40.504 with n_estimators: 90\n"
     ]
    }
   ],
   "source": [
    "rmse_results = []\n",
    "\n",
    "for n in range(10, 201, 10):\n",
    "    rf = RandomForestRegressor(n_estimators=n, random_state=1)\n",
    "    rf.fit(X_train, y_train)\n",
    "    y_pred = rf.predict(X_val)\n",
    "    rmse = root_mean_squared_error(y_val, y_pred)\n",
    "    rmse_results.append((n, rmse))\n",
    "    print(f\"n_estimators: {n}, RMSE: {rmse:.3f}\")\n",
    "    \n",
    "min_rmse = min(rmse_results, key=lambda x: x[1])\n",
    "print(f\"Minimum RMSE: {min_rmse[1]:.3f} with n_estimators: {min_rmse[0]}\")"
   ]
  },
  {
   "cell_type": "markdown",
   "metadata": {},
   "source": [
    "# Question 4"
   ]
  },
  {
   "cell_type": "code",
   "execution_count": 19,
   "metadata": {},
   "outputs": [
    {
     "name": "stdout",
     "output_type": "stream",
     "text": [
      "Best max_depth: 10 with Mean RMSE: 40.392\n"
     ]
    }
   ],
   "source": [
    "mean_rmse_per_depth = {}\n",
    "\n",
    "for depth in [10, 15, 20, 25]:\n",
    "    rmse_values = []\n",
    "    \n",
    "    \n",
    "    for n in range(10, 201, 10):\n",
    "        \n",
    "        rf = RandomForestRegressor(max_depth=depth, n_estimators=n, random_state=1)\n",
    "        rf.fit(X_train, y_train)\n",
    "        \n",
    "    \n",
    "        y_pred = rf.predict(X_val)\n",
    "        \n",
    "        \n",
    "        rmse = mean_squared_error(y_val, y_pred, squared=False)\n",
    "        rmse_values.append(rmse)\n",
    "    \n",
    "    mean_rmse_per_depth[depth] = np.mean(rmse_values)\n",
    "\n",
    "best_depth = min(mean_rmse_per_depth, key=mean_rmse_per_depth.get)\n",
    "\n",
    "print(f\"Best max_depth: {best_depth} with Mean RMSE: {mean_rmse_per_depth[best_depth]:.3f}\")"
   ]
  },
  {
   "cell_type": "markdown",
   "metadata": {},
   "source": [
    "# Question 5"
   ]
  },
  {
   "cell_type": "code",
   "execution_count": 20,
   "metadata": {},
   "outputs": [
    {
     "name": "stdout",
     "output_type": "stream",
     "text": [
      "                 feature  importance\n",
      "27  study_hours_per_week    0.248354\n"
     ]
    }
   ],
   "source": [
    "rf = RandomForestRegressor(n_estimators=10, max_depth=20, random_state=1, n_jobs=-1)\n",
    "rf.fit(X_train, y_train)\n",
    "\n",
    "importances = rf.feature_importances_\n",
    "\n",
    "feature_importances = pd.DataFrame({'feature': dv.get_feature_names_out(), 'importance': importances})\n",
    "\n",
    "feature_importances = feature_importances.sort_values(by='importance', ascending=False)\n",
    "\n",
    "print(feature_importances.head(1))"
   ]
  },
  {
   "cell_type": "markdown",
   "metadata": {},
   "source": [
    "# Question 6"
   ]
  },
  {
   "cell_type": "code",
   "execution_count": null,
   "metadata": {},
   "outputs": [],
   "source": [
    "dtrain = xgb.DMatrix(X_train, label=y_train)\n",
    "dvalid = xgb.DMatrix(X_val, label=y_val)\n",
    "\n",
    "watchlist = [(dtrain, 'train'), (dvalid, 'valid')]\n",
    "\n",
    "xgb_params = {\n",
    "    'eta': 0.3,  # Learning rate\n",
    "    'max_depth': 6,\n",
    "    'min_child_weight': 1,\n",
    "    'objective': 'reg:squarederror',  # Regression task\n",
    "    'nthread': 8,  # Use all available cores\n",
    "    'seed': 1,\n",
    "    'verbosity': 1,\n",
    "}\n",
    "\n",
    "model = xgb.train(xgb_params, dtrain, num_boost_round=100, evals=watchlist)"
   ]
  }
 ],
 "metadata": {
  "kernelspec": {
   "display_name": "Python 3",
   "language": "python",
   "name": "python3"
  },
  "language_info": {
   "codemirror_mode": {
    "name": "ipython",
    "version": 3
   },
   "file_extension": ".py",
   "mimetype": "text/x-python",
   "name": "python",
   "nbconvert_exporter": "python",
   "pygments_lexer": "ipython3",
   "version": "3.12.4"
  }
 },
 "nbformat": 4,
 "nbformat_minor": 2
}
