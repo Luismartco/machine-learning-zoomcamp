{
 "cells": [
  {
   "cell_type": "code",
   "execution_count": 6,
   "metadata": {},
   "outputs": [
    {
     "name": "stdout",
     "output_type": "stream",
     "text": [
      "   JAMB_Score  Study_Hours_Per_Week  Attendance_Rate  Teacher_Quality  \\\n",
      "0         192                    22               78                4   \n",
      "1         207                    14               88                4   \n",
      "2         182                    29               87                2   \n",
      "3         210                    29               99                2   \n",
      "4         199                    12               98                3   \n",
      "\n",
      "   Distance_To_School School_Type School_Location Extra_Tutorials  \\\n",
      "0                12.4      Public           Urban             Yes   \n",
      "1                 2.7      Public           Rural              No   \n",
      "2                 9.6      Public           Rural             Yes   \n",
      "3                 2.6      Public           Urban              No   \n",
      "4                 8.8      Public           Urban              No   \n",
      "\n",
      "  Access_To_Learning_Materials Parent_Involvement IT_Knowledge  Student_ID  \\\n",
      "0                          Yes               High       Medium           1   \n",
      "1                          Yes               High         High           2   \n",
      "2                          Yes               High       Medium           3   \n",
      "3                          Yes             Medium         High           4   \n",
      "4                          Yes             Medium       Medium           5   \n",
      "\n",
      "   Age  Gender Socioeconomic_Status Parent_Education_Level  \\\n",
      "0   17    Male                  Low               Tertiary   \n",
      "1   15    Male                 High                    NaN   \n",
      "2   20  Female                 High               Tertiary   \n",
      "3   22  Female               Medium               Tertiary   \n",
      "4   22  Female               Medium               Tertiary   \n",
      "\n",
      "   Assignments_Completed  \n",
      "0                      2  \n",
      "1                      1  \n",
      "2                      2  \n",
      "3                      1  \n",
      "4                      1  \n"
     ]
    }
   ],
   "source": [
    "import pandas as pd\n",
    "\n",
    "# Lee el archivo CSV\n",
    "df = pd.read_csv('jamb_exam_results.csv')\n",
    "\n",
    "# Muestra las primeras filas del DataFrame\n",
    "print(df.head())"
   ]
  },
  {
   "cell_type": "code",
   "execution_count": null,
   "metadata": {},
   "outputs": [],
   "source": [
    "import numpy as np\n",
    "from sklearn.tree import DecisionTreeRegressor, export_text\n",
    "from sklearn.model_selection import train_test_split\n",
    "from sklearn.metrics import mean_squared_error, root_mean_squared_error\n",
    "from sklearn.ensemble import RandomForestRegressor"
   ]
  }
 ],
 "metadata": {
  "kernelspec": {
   "display_name": "Python 3",
   "language": "python",
   "name": "python3"
  },
  "language_info": {
   "codemirror_mode": {
    "name": "ipython",
    "version": 3
   },
   "file_extension": ".py",
   "mimetype": "text/x-python",
   "name": "python",
   "nbconvert_exporter": "python",
   "pygments_lexer": "ipython3",
   "version": "3.12.4"
  }
 },
 "nbformat": 4,
 "nbformat_minor": 2
}
