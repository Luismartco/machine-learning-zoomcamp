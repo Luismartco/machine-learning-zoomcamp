{
 "cells": [
  {
   "cell_type": "markdown",
   "metadata": {},
   "source": [
    "Homework08"
   ]
  },
  {
   "cell_type": "markdown",
   "metadata": {},
   "source": [
    "Code:\n",
    "https://colab.research.google.com/drive/1b3SuYBCarOWLmXNiuouywqwkp_ViUucD?usp=sharing"
   ]
  }
 ],
 "metadata": {
  "language_info": {
   "name": "python"
  }
 },
 "nbformat": 4,
 "nbformat_minor": 2
}
